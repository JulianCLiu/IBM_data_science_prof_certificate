{
 "cells": [
  {
   "cell_type": "markdown",
   "id": "c6d68b23-bf4a-49b1-84d8-150dc9b5bc4f",
   "metadata": {},
   "source": [
    "## Exercise 2 "
   ]
  },
  {
   "cell_type": "markdown",
   "id": "0d9737f3-331a-423f-a898-fe1e8c77c892",
   "metadata": {},
   "source": [
    "# Data Science Tools and Ecosystem"
   ]
  },
  {
   "cell_type": "markdown",
   "id": "264c382e-d0ba-49c9-9ff0-0c2f4392ae68",
   "metadata": {},
   "source": [
    "## Exercise 3"
   ]
  },
  {
   "cell_type": "markdown",
   "id": "8683134c-19ae-4dce-bc23-4a94a76457bd",
   "metadata": {},
   "source": [
    "In this notebook, Data Science Tools and Ecosystem are summarized."
   ]
  },
  {
   "cell_type": "markdown",
   "id": "6191842d-d88c-484c-ac43-bc2bddcf6899",
   "metadata": {},
   "source": [
    "## Exercise 4"
   ]
  },
  {
   "cell_type": "markdown",
   "id": "60f64e85-b351-49e5-a80c-aa6585314415",
   "metadata": {},
   "source": [
    "Some of the popular languages that Data Scientists use are:\n",
    "1. Python\n",
    "2. R\n",
    "3. SQL"
   ]
  },
  {
   "cell_type": "markdown",
   "id": "4c0f9224-c256-4f49-a841-846c2ce46990",
   "metadata": {},
   "source": [
    "## Exercise 5"
   ]
  },
  {
   "cell_type": "markdown",
   "id": "30c56809-fcb8-4174-bb99-14c3b5a92205",
   "metadata": {},
   "source": [
    "Some of the commonly used libraries used by Data Scientists include:\n",
    "\n",
    "1. Pandas\n",
    "2. NumPy\n",
    "3. Matplotlib"
   ]
  },
  {
   "cell_type": "markdown",
   "id": "ea81cf5d-6451-4e3e-8a3d-54277aa82b69",
   "metadata": {},
   "source": [
    "## Exercise 6"
   ]
  },
  {
   "cell_type": "markdown",
   "id": "658e571e-afc2-42b8-b920-dbb09801e630",
   "metadata": {
    "tags": []
   },
   "source": [
    "Data Science Tools:\n",
    "\n",
    "| Tool |\n",
    "| ---- |\n",
    "| Jupyter Notebook |\n",
    "| RStudio |\n",
    "| Apache Spark |"
   ]
  },
  {
   "cell_type": "markdown",
   "id": "f8a8750e-2b8f-4b46-b771-1df847fa8ded",
   "metadata": {},
   "source": [
    "## Exercise 7"
   ]
  },
  {
   "cell_type": "markdown",
   "id": "d0813f8e-ec1a-465c-ac9c-6f49f335df3c",
   "metadata": {
    "tags": []
   },
   "source": [
    "### Below are a few examples of evaluating arithmetic expressions in Python.\n"
   ]
  },
  {
   "cell_type": "markdown",
   "id": "214332b1-d58f-47aa-98fe-d1e6644632cf",
   "metadata": {},
   "source": [
    "## Exercise 8"
   ]
  },
  {
   "cell_type": "code",
   "execution_count": 8,
   "id": "05093b54-733c-43e1-adf6-78c559ccce46",
   "metadata": {
    "tags": []
   },
   "outputs": [],
   "source": [
    "# This is a simple arithmetic expression to multiply and then add integers"
   ]
  },
  {
   "cell_type": "code",
   "execution_count": 11,
   "id": "e90fa9ec-0a1f-4f99-8516-0539da706b6d",
   "metadata": {
    "tags": []
   },
   "outputs": [],
   "source": [
    "result = (3*4)+5"
   ]
  },
  {
   "cell_type": "code",
   "execution_count": 12,
   "id": "2abe483e-4e75-4827-849d-b42a0a6706d8",
   "metadata": {
    "tags": []
   },
   "outputs": [
    {
     "data": {
      "text/plain": [
       "17"
      ]
     },
     "execution_count": 12,
     "metadata": {},
     "output_type": "execute_result"
    }
   ],
   "source": [
    "result"
   ]
  },
  {
   "cell_type": "markdown",
   "id": "5f756293-2672-4f67-8e93-0ecd0eaa494d",
   "metadata": {
    "tags": []
   },
   "source": [
    "## Exercise 9"
   ]
  },
  {
   "cell_type": "code",
   "execution_count": 5,
   "id": "c33c72af-844e-4c4c-90f1-7161f0c559cd",
   "metadata": {
    "tags": []
   },
   "outputs": [],
   "source": [
    "# This will convert 200 minutes to hours by dividing by 60"
   ]
  },
  {
   "cell_type": "code",
   "execution_count": 14,
   "id": "3241dfb3-935e-4d57-8c68-f4ed2c62135e",
   "metadata": {
    "tags": []
   },
   "outputs": [
    {
     "data": {
      "text/plain": [
       "3.3333333333333335"
      ]
     },
     "execution_count": 14,
     "metadata": {},
     "output_type": "execute_result"
    }
   ],
   "source": [
    "minutes = 200\n",
    "hours = minutes / 60\n",
    "hours"
   ]
  },
  {
   "cell_type": "markdown",
   "id": "796789a0-362c-4f32-9b4b-c440040cf24e",
   "metadata": {
    "tags": []
   },
   "source": [
    "## Exercise 10"
   ]
  },
  {
   "cell_type": "markdown",
   "id": "e6a47aba-3fd4-48b3-a57f-c05721329830",
   "metadata": {},
   "source": [
    "**Objectives:**\n",
    "\n",
    "- List popular languages for Data Science.\n",
    "- List common libraries used in Data Science.\n",
    "- Create and display a table of Data Science tools.\n",
    "- Demonstrate arithmetic operations using Python.\n",
    "- Convert minutes into hours using Python."
   ]
  },
  {
   "cell_type": "markdown",
   "id": "7f0973b9-8ce6-4831-b159-982bbb22cd8b",
   "metadata": {},
   "source": [
    "## Exercise 11"
   ]
  },
  {
   "cell_type": "markdown",
   "id": "5fdaed32-867e-4268-8019-5c0a8b21b169",
   "metadata": {
    "tags": []
   },
   "source": [
    "## Author\n",
    "Chin Ju Liu"
   ]
  },
  {
   "cell_type": "code",
   "execution_count": null,
   "id": "c66b172e-ec70-4f3e-9c57-a8a1cec2e2bc",
   "metadata": {
    "tags": []
   },
   "outputs": [],
   "source": []
  }
 ],
 "metadata": {
  "kernelspec": {
   "display_name": "Python",
   "language": "python",
   "name": "conda-env-python-py"
  },
  "language_info": {
   "codemirror_mode": {
    "name": "ipython",
    "version": 3
   },
   "file_extension": ".py",
   "mimetype": "text/x-python",
   "name": "python",
   "nbconvert_exporter": "python",
   "pygments_lexer": "ipython3",
   "version": "3.7.12"
  }
 },
 "nbformat": 4,
 "nbformat_minor": 5
}
